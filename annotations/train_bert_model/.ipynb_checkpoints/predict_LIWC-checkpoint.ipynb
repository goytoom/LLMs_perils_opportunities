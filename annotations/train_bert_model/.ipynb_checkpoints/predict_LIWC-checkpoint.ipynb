{
 "cells": [
  {
   "cell_type": "markdown",
   "id": "c9f0e2c4-a3e3-49de-be1f-12c94af0a6b3",
   "metadata": {},
   "source": [
    "This codebook extracts LIWC embeddings and a simple classifier (SVC) to predict the text annotations/moral sentiment in the MFRC"
   ]
  },
  {
   "cell_type": "markdown",
   "id": "8f2371f9-191a-40a0-8330-e1f8b018990a",
   "metadata": {},
   "source": [
    "## Load Packages"
   ]
  },
  {
   "cell_type": "code",
   "execution_count": 15,
   "id": "8ccec441-464b-4b1e-abf6-72d9c58083af",
   "metadata": {},
   "outputs": [],
   "source": [
    "import pandas as pd\n",
    "import numpy as np\n",
    "import os\n",
    "import pickle as pkl\n",
    "os.environ['TF_CPP_MIN_LOG_LEVEL'] = '3' \n",
    "\n",
    "foundations = {\"mfrc\":  {\n",
    "                    \"complete\": [\"care\", \"harm\", \"equality\", \"proportionality\", \"loyalty\", \"betrayal\", \"authority\", \"subversion\", \"purity\", \"degradation\", \"thin morality\", \"non-moral\"],\n",
    "                    \"binding\": [\"individual\", \"binding\", \"proportionality\", \"thin morality\", \"non-moral\"], \n",
    "                    \"moral\": [\"moral\", \"thin morality\", \"non-moral\"],\n",
    "                    \"full\": [\"care\", \"proportionality\", \"loyalty\", \"authority\", \"purity\", \"equality\", \"thin morality\", \"non-moral\"]\n",
    "               }\n",
    "              }"
   ]
  },
  {
   "cell_type": "markdown",
   "id": "4686ee07-6f1d-4ead-aaf6-7e52f9ec5ce0",
   "metadata": {},
   "source": [
    "## General Parameters"
   ]
  },
  {
   "cell_type": "code",
   "execution_count": 17,
   "id": "dfb0f273-7dc0-4173-a0fe-38bcbbbf2550",
   "metadata": {
    "scrolled": true
   },
   "outputs": [],
   "source": [
    "corp = \"mfrc\"\n",
    "mode = \"full\"\n",
    "training = \"normal\"\n",
    "\n",
    "# set file path for models and test data (input features and labels)\n",
    "model_files = [\"../models/liwc_\" + c + \"_\" + mode + \".sav\" for c in foundations[\"mfrc\"][\"full\"]]\n",
    "sample_file = \"../data/preprocessed/mfrc_sample_full.csv\"\n",
    "sample_features = '../data/preprocessed/mfrc_sample_full_liwc.csv'"
   ]
  },
  {
   "cell_type": "markdown",
   "id": "9437db85-84f8-4371-83c6-7e485adf48a3",
   "metadata": {},
   "source": [
    "## Functions for Predictions"
   ]
  },
  {
   "cell_type": "code",
   "execution_count": 22,
   "id": "466bcaf3-8155-488b-a47d-a721e79cf246",
   "metadata": {},
   "outputs": [],
   "source": [
    "def predict(input_file, sample_file, model_files):\n",
    "    X_test = pd.read_csv(input_file, index_col=0).drop([\"Segment\"], axis=1) # load liwc vectors\n",
    "    df_sample = pd.read_csv(sample_file) # get original sample/test file \n",
    "    pred_dict = {}\n",
    "    # loop over N classes, load classifier for each and predict\n",
    "    cols = foundations[\"mfrc\"][\"full\"]\n",
    "    for i in range(len(model_files)):\n",
    "        c = cols[i]\n",
    "        model = pkl.load(open(model_files[i], 'rb'))\n",
    "        print(\"Predicting: \" + c)\n",
    "        y_pred = model.predict(X_test)\n",
    "        pred_dict[c] = y_pred\n",
    "    df_sample[cols] = pd.DataFrame(pred_dict, index=df_sample.index)\n",
    "    # print(df_sample.head())\n",
    "    print(\"Saving the prediction\")\n",
    "    df_sample.to_csv(\"../results/predictions/\" + corp + \"_labels_\" + training + \"_\" + mode + \"_liwc.csv\", index=False)\n",
    "    \n",
    "def create_liwc(input_file, output_file):\n",
    "\n",
    "    cmd_to_execute = [\"LIWC-22-cli\",\n",
    "                  \"--mode\", \"wc\",\n",
    "                  \"--input\", input_file,\n",
    "                  \"--column-indices\", \"1\",\n",
    "                  \"--output\", output_file]\n",
    "\n",
    "    subprocess.call(cmd_to_execute)"
   ]
  },
  {
   "cell_type": "markdown",
   "id": "21ebacda-f3fa-4dfa-aa89-d88a3084e12c",
   "metadata": {},
   "source": [
    "## Get Test Data"
   ]
  },
  {
   "cell_type": "code",
   "execution_count": 19,
   "id": "f4d6954a-94f6-439f-9b09-4293b8984b8a",
   "metadata": {},
   "outputs": [],
   "source": [
    "# create_liwc(sample_file, sample_features) # extract liwc features (or use LIWC client)"
   ]
  },
  {
   "cell_type": "markdown",
   "id": "8d7bc880-73cc-41a3-9ce1-cdd07576da50",
   "metadata": {},
   "source": [
    "## Make predictions"
   ]
  },
  {
   "cell_type": "code",
   "execution_count": 21,
   "id": "cac4cb9c-5d54-4d20-b9d4-c656fb69da16",
   "metadata": {},
   "outputs": [
    {
     "name": "stdout",
     "output_type": "stream",
     "text": [
      "Predicting: care\n",
      "Predicting: proportionality\n",
      "Predicting: loyalty\n",
      "Predicting: authority\n",
      "Predicting: purity\n",
      "Predicting: equality\n",
      "Predicting: thin morality\n",
      "Predicting: non-moral\n",
      "Saving the prediction\n"
     ]
    }
   ],
   "source": [
    "#get annoatations of texts\n",
    "predict(sample_features, sample_file, model_files)"
   ]
  }
 ],
 "metadata": {
  "kernelspec": {
   "display_name": "Python 3 (ipykernel)",
   "language": "python",
   "name": "python3"
  },
  "language_info": {
   "codemirror_mode": {
    "name": "ipython",
    "version": 3
   },
   "file_extension": ".py",
   "mimetype": "text/x-python",
   "name": "python",
   "nbconvert_exporter": "python",
   "pygments_lexer": "ipython3",
   "version": "3.10.0"
  }
 },
 "nbformat": 4,
 "nbformat_minor": 5
}
