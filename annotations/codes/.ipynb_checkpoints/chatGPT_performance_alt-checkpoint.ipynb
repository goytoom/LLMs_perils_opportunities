{
 "cells": [
  {
   "cell_type": "markdown",
   "id": "cbe944e4-63c6-43ca-abc3-54dd69416b70",
   "metadata": {},
   "source": [
    "This codebook calculates performance metrics from the ChatGPT moral sentiment classifications using alternative prompts."
   ]
  },
  {
   "cell_type": "markdown",
   "id": "40dd0cf8-b63b-4ab9-9799-684a859c97b8",
   "metadata": {},
   "source": [
    "## Load Packages"
   ]
  },
  {
   "cell_type": "code",
   "execution_count": 12,
   "id": "5625e6e2-2e16-4c83-b68f-d4a75465f20b",
   "metadata": {
    "tags": []
   },
   "outputs": [],
   "source": [
    "import os\n",
    "import pandas as pd\n",
    "import pickle\n",
    "import time\n",
    "\n",
    "from sklearn.metrics import f1_score"
   ]
  },
  {
   "cell_type": "markdown",
   "id": "9d923fa5-6278-48d9-a978-f2ebf094057d",
   "metadata": {},
   "source": [
    "## General Parameters"
   ]
  },
  {
   "cell_type": "code",
   "execution_count": 15,
   "id": "30310238-f410-4337-a7f7-66cb86cc0c65",
   "metadata": {
    "tags": []
   },
   "outputs": [],
   "source": [
    "data = \"mfrc\"\n",
    "mode = \"full\"\n",
    "folder = \"../data/preprocessed/\"\n",
    "\n",
    "alt = \"1\" #if multiple alternative prompts were created, change the value here (or iterate all code over a list of alternatives)\n",
    "path = folder + data + \"_sample_\" + mode + \".csv\"\n",
    "pred_path =  \"../results/predictions/gpt_\" + data + \"_labels_\" + mode + \"_ALT\" + alt + \".csv\"\n",
    "\n",
    "# load ground truth and metadata\n",
    "df_groundtruth = pd.read_csv(\"../data/preprocessed/\" + data + \"_sample_\" + mode + \".csv\")   \n",
    "df_meta = pd.read_csv(\"../data/preprocessed/\" + data + \"_meta_sample_\" + mode + \".csv\")   \n",
    "df_pred = pd.read_csv(pred_path)\n",
    "df_pred.loc[(df_pred.loc[:, df_pred.columns[1:]].sum(1) == 0), \"non-moral\"] = 1 # non-moral if no moral sentiment\n",
    "\n",
    "cols = df_pred.columns[1:].tolist()"
   ]
  },
  {
   "cell_type": "markdown",
   "id": "7565e9b3-7824-46a0-8635-a55dc11b4b09",
   "metadata": {},
   "source": [
    "## Calculate performance and save for bias analyses"
   ]
  },
  {
   "cell_type": "code",
   "execution_count": 16,
   "id": "42828978-313f-46fc-8059-3ece72154496",
   "metadata": {
    "tags": []
   },
   "outputs": [
    {
     "name": "stdout",
     "output_type": "stream",
     "text": [
      "0.2338934684578574\n"
     ]
    }
   ],
   "source": [
    "y_true = df_groundtruth[cols].values\n",
    "y_pred = df_pred[cols]\n",
    "\n",
    "print(f1_score(y_true, y_pred, average=\"macro\"))\n",
    "\n",
    "df_total = df_meta.merge(df_pred[cols + [\"text\"]], on=\"text\")\n",
    "df_total[\"success\"] = df_total.apply(lambda x: x[x[\"annotation\"]] == 1, axis = 1)\n",
    "\n",
    "df_total.to_csv(\"../results/evals/gpt_\" + data + \"_success_\" + mode + \"_\" + alt + \".csv\", index = False) # uncomment for analyses"
   ]
  },
  {
   "cell_type": "markdown",
   "id": "20533f84-9410-4692-9e27-160f4d863efc",
   "metadata": {
    "jp-MarkdownHeadingCollapsed": true,
    "tags": []
   },
   "source": [
    "## Additional Information (predicted class distributions)"
   ]
  },
  {
   "cell_type": "markdown",
   "id": "b4166a83-0ec8-435f-84a7-a9cfcd20d39e",
   "metadata": {},
   "source": [
    "### Distribution of foundations across predictions"
   ]
  },
  {
   "cell_type": "code",
   "execution_count": 21,
   "id": "e1e821a5-d2e5-4c3a-890b-6c96b06f6efb",
   "metadata": {
    "tags": []
   },
   "outputs": [
    {
     "name": "stdout",
     "output_type": "stream",
     "text": [
      "care               0.085056\n",
      "proportionality    0.011868\n",
      "loyalty            0.026802\n",
      "authority          0.148947\n",
      "purity             0.007319\n",
      "equality           0.057264\n",
      "thin morality      0.657798\n",
      "non-moral          0.004945\n",
      "dtype: float64\n"
     ]
    }
   ],
   "source": [
    "print(df_total[cols].sum(0)/df_total.shape[0])"
   ]
  },
  {
   "cell_type": "markdown",
   "id": "99e75850-cd4a-4ab4-a600-51e650b04c66",
   "metadata": {},
   "source": [
    "#### Distribution of foundations for groundtruth"
   ]
  },
  {
   "cell_type": "code",
   "execution_count": 22,
   "id": "194ebcc1-f278-4f25-9d46-0fd1d8b4eb0e",
   "metadata": {
    "tags": []
   },
   "outputs": [
    {
     "name": "stdout",
     "output_type": "stream",
     "text": [
      "care               0.113309\n",
      "proportionality    0.037881\n",
      "loyalty            0.035870\n",
      "authority          0.048274\n",
      "purity             0.018773\n",
      "equality           0.077774\n",
      "thin morality      0.095877\n",
      "non-moral          0.646329\n",
      "dtype: float64\n"
     ]
    }
   ],
   "source": [
    "# compare distribution of foundations over predictions and groundtruth (are they similar? -> better classifier)\n",
    "print(df_groundtruth[cols].sum(0)/df_groundtruth.shape[0])"
   ]
  }
 ],
 "metadata": {
  "kernelspec": {
   "display_name": "Python 3 (ipykernel)",
   "language": "python",
   "name": "python3"
  },
  "language_info": {
   "codemirror_mode": {
    "name": "ipython",
    "version": 3
   },
   "file_extension": ".py",
   "mimetype": "text/x-python",
   "name": "python",
   "nbconvert_exporter": "python",
   "pygments_lexer": "ipython3",
   "version": "3.10.9"
  }
 },
 "nbformat": 4,
 "nbformat_minor": 5
}
