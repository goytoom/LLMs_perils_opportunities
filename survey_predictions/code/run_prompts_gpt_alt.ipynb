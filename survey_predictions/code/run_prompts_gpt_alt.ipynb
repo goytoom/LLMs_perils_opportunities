{
 "cells": [
  {
   "cell_type": "markdown",
   "id": "53bd7a18-fa37-4017-9d1f-efabf34f5a63",
   "metadata": {},
   "source": [
    "This codebook collects ChatGPT's responses to a diverse range of questionnaires using multiple prompts with only surface level changes."
   ]
  },
  {
   "cell_type": "markdown",
   "id": "54023693-044a-4ea8-ab39-b05aae06aa1c",
   "metadata": {},
   "source": [
    "## Load Packages"
   ]
  },
  {
   "cell_type": "code",
   "execution_count": null,
   "id": "ff0c1ef7-3414-4296-9f70-0fe6cbcdf4f5",
   "metadata": {
    "tags": []
   },
   "outputs": [],
   "source": [
    "import openai\n",
    "import os\n",
    "import pandas as pd\n",
    "import pickle\n",
    "import time\n",
    "import logging\n",
    "from retry import retry\n",
    "logging.basicConfig()\n",
    "\n",
    "# Calculate the delay based on your rate limit\n",
    "rate_limit_per_minute = 3500.0\n",
    "delay = 60.0 / rate_limit_per_minute"
   ]
  },
  {
   "cell_type": "markdown",
   "id": "e05b2e19-804e-4369-bf4f-45a3572d7684",
   "metadata": {},
   "source": [
    "## Define chatgpt calls"
   ]
  },
  {
   "cell_type": "code",
   "execution_count": 3,
   "id": "d6ea3c1a-bafa-47b0-9464-e514acca5bd5",
   "metadata": {
    "tags": []
   },
   "outputs": [],
   "source": [
    "# general parameters\n",
    "openai.api_key = \"\" #add your openai key here\n",
    "model_engine = \"gpt-3.5-turbo-0301\""
   ]
  },
  {
   "cell_type": "code",
   "execution_count": 88,
   "id": "070b133c-6afe-49d7-98ea-b9dc220f1d25",
   "metadata": {
    "tags": []
   },
   "outputs": [],
   "source": [
    "@retry(delay=5)\n",
    "def delayed_completion(delay_in_seconds: float = 1, **kwargs):\n",
    "    \"\"\"Delay a completion by a specified amount of time.\"\"\"\n",
    "\n",
    "    # Sleep for the delay\n",
    "    time.sleep(delay_in_seconds)\n",
    "\n",
    "    # Call the Completion API and return the result\n",
    "    return openai.ChatCompletion.create(**kwargs)"
   ]
  },
  {
   "cell_type": "markdown",
   "id": "038e409f-916c-44ba-a47d-1e6db6131fc7",
   "metadata": {},
   "source": [
    "## Test Prompts and ChatGPT API Call"
   ]
  },
  {
   "cell_type": "markdown",
   "id": "f6841722-a276-43ff-b51f-55d07ae70573",
   "metadata": {},
   "source": [
    "### Create Test Prompts"
   ]
  },
  {
   "cell_type": "code",
   "execution_count": 6,
   "id": "cb06575e-7cc4-4106-9f86-9382f3386d68",
   "metadata": {
    "tags": []
   },
   "outputs": [],
   "source": [
    "# choose dataset\n",
    "d = \"bigfive\"\n",
    "alt = \"1\" # choose prompt style here if multiple are to be compared! (in this work 3)\n",
    "# create path\n",
    "path_items = '../data/items/' + d + '_items.csv'"
   ]
  },
  {
   "cell_type": "code",
   "execution_count": 7,
   "id": "3812c3da-1135-41d7-8bf5-c385e5a3e637",
   "metadata": {
    "tags": []
   },
   "outputs": [],
   "source": [
    "with open ('../data/prompts/ALT' + str(alt) + \"_\" + d + \".pkl\", 'rb') as fp:\n",
    "    prompts = pickle.load(fp)\n",
    "items = pd.read_csv(path_items, sep=\";\")"
   ]
  },
  {
   "cell_type": "code",
   "execution_count": 8,
   "id": "063ef705-9778-4f7d-a686-74d849cec466",
   "metadata": {
    "tags": []
   },
   "outputs": [
    {
     "data": {
      "text/plain": [
       "{'role': 'user',\n",
       " 'content': 'For a scientific study, we are collecting responses to various psychological questionnaires. In the following you will be shown statements from a personality test. Please indicate your level of agreement with each statement. There are no right or wrong answers. Use numbers from 1 to 5, with 1 meaning strongly disagree and 5 meaning strongly agree. Respond with a single number. The statement is: \"I see myself as someone who is full of energy\"'}"
      ]
     },
     "execution_count": 8,
     "metadata": {},
     "output_type": "execute_result"
    }
   ],
   "source": [
    "messages = [{\"role\": \"user\", \"content\": x} for x in prompts]\n",
    "test_prompt = messages[10]\n",
    "test_prompt # read test before running"
   ]
  },
  {
   "cell_type": "code",
   "execution_count": 99,
   "id": "694afc57-dd39-4e63-a403-3c46e413c622",
   "metadata": {
    "tags": []
   },
   "outputs": [
    {
     "name": "stdout",
     "output_type": "stream",
     "text": [
      "4\n"
     ]
    }
   ],
   "source": [
    "APIresponse = delayed_completion(\n",
    "    delay_in_seconds=delay,\n",
    "    model=model_engine,\n",
    "    messages=[test_prompt],\n",
    "    temperature=1\n",
    "    )\n",
    "response = APIresponse.choices[0].message[\"content\"]\n",
    "print(response)"
   ]
  },
  {
   "cell_type": "markdown",
   "id": "fc297f61-4de1-48ca-8e0c-a29f644b0211",
   "metadata": {},
   "source": [
    "## Run chatGPT"
   ]
  },
  {
   "cell_type": "markdown",
   "id": "a9ff4d19-e9be-490f-8cb0-5611cf8fda0d",
   "metadata": {},
   "source": [
    "### Run calls"
   ]
  },
  {
   "cell_type": "code",
   "execution_count": null,
   "id": "4d9f244f-3239-422c-8fe6-66eb62f26bb4",
   "metadata": {},
   "outputs": [],
   "source": [
    "alts = [1, 2, 3] # set list of alternative prompts here"
   ]
  },
  {
   "cell_type": "code",
   "execution_count": 100,
   "id": "626be96a-bc9a-4c39-8ba9-9b45161ddb95",
   "metadata": {
    "scrolled": true,
    "tags": []
   },
   "outputs": [
    {
     "name": "stdout",
     "output_type": "stream",
     "text": [
      "response_1\n",
      "response_2\n"
     ]
    },
    {
     "name": "stderr",
     "output_type": "stream",
     "text": [
      "WARNING:retry.api:The server is overloaded or not ready yet., retrying in 5 seconds...\n"
     ]
    },
    {
     "name": "stdout",
     "output_type": "stream",
     "text": [
      "response_3\n"
     ]
    },
    {
     "name": "stderr",
     "output_type": "stream",
     "text": [
      "WARNING:retry.api:The server is overloaded or not ready yet., retrying in 5 seconds...\n"
     ]
    },
    {
     "name": "stdout",
     "output_type": "stream",
     "text": [
      "response_4\n"
     ]
    },
    {
     "name": "stderr",
     "output_type": "stream",
     "text": [
      "WARNING:retry.api:The server is overloaded or not ready yet., retrying in 5 seconds...\n"
     ]
    },
    {
     "name": "stdout",
     "output_type": "stream",
     "text": [
      "response_5\n",
      "response_6\n"
     ]
    },
    {
     "name": "stderr",
     "output_type": "stream",
     "text": [
      "WARNING:retry.api:The server is overloaded or not ready yet., retrying in 5 seconds...\n",
      "WARNING:retry.api:The server is overloaded or not ready yet., retrying in 5 seconds...\n"
     ]
    },
    {
     "name": "stdout",
     "output_type": "stream",
     "text": [
      "response_7\n"
     ]
    },
    {
     "name": "stderr",
     "output_type": "stream",
     "text": [
      "WARNING:retry.api:The server is overloaded or not ready yet., retrying in 5 seconds...\n",
      "WARNING:retry.api:The server is overloaded or not ready yet., retrying in 5 seconds...\n",
      "WARNING:retry.api:The server is overloaded or not ready yet., retrying in 5 seconds...\n",
      "WARNING:retry.api:The server is overloaded or not ready yet., retrying in 5 seconds...\n"
     ]
    },
    {
     "name": "stdout",
     "output_type": "stream",
     "text": [
      "response_8\n"
     ]
    },
    {
     "name": "stderr",
     "output_type": "stream",
     "text": [
      "WARNING:retry.api:The server is overloaded or not ready yet., retrying in 5 seconds...\n"
     ]
    },
    {
     "name": "stdout",
     "output_type": "stream",
     "text": [
      "response_9\n",
      "response_10\n"
     ]
    },
    {
     "name": "stderr",
     "output_type": "stream",
     "text": [
      "WARNING:retry.api:The server is overloaded or not ready yet., retrying in 5 seconds...\n"
     ]
    },
    {
     "name": "stdout",
     "output_type": "stream",
     "text": [
      "response_11\n"
     ]
    },
    {
     "name": "stderr",
     "output_type": "stream",
     "text": [
      "WARNING:retry.api:The server is overloaded or not ready yet., retrying in 5 seconds...\n",
      "WARNING:retry.api:The server is overloaded or not ready yet., retrying in 5 seconds...\n",
      "WARNING:retry.api:The server is overloaded or not ready yet., retrying in 5 seconds...\n",
      "WARNING:retry.api:The server is overloaded or not ready yet., retrying in 5 seconds...\n"
     ]
    },
    {
     "name": "stdout",
     "output_type": "stream",
     "text": [
      "response_12\n"
     ]
    },
    {
     "name": "stderr",
     "output_type": "stream",
     "text": [
      "WARNING:retry.api:The server is overloaded or not ready yet., retrying in 5 seconds...\n",
      "WARNING:retry.api:The server is overloaded or not ready yet., retrying in 5 seconds...\n"
     ]
    },
    {
     "name": "stdout",
     "output_type": "stream",
     "text": [
      "response_13\n"
     ]
    },
    {
     "name": "stderr",
     "output_type": "stream",
     "text": [
      "WARNING:retry.api:The server is overloaded or not ready yet., retrying in 5 seconds...\n",
      "WARNING:retry.api:The server is overloaded or not ready yet., retrying in 5 seconds...\n",
      "WARNING:retry.api:The server is overloaded or not ready yet., retrying in 5 seconds...\n"
     ]
    },
    {
     "name": "stdout",
     "output_type": "stream",
     "text": [
      "response_14\n",
      "response_15\n",
      "response_16\n"
     ]
    },
    {
     "name": "stderr",
     "output_type": "stream",
     "text": [
      "WARNING:retry.api:The server is overloaded or not ready yet., retrying in 5 seconds...\n"
     ]
    },
    {
     "name": "stdout",
     "output_type": "stream",
     "text": [
      "response_17\n"
     ]
    },
    {
     "name": "stderr",
     "output_type": "stream",
     "text": [
      "WARNING:retry.api:The server is overloaded or not ready yet., retrying in 5 seconds...\n"
     ]
    },
    {
     "name": "stdout",
     "output_type": "stream",
     "text": [
      "response_18\n"
     ]
    },
    {
     "name": "stderr",
     "output_type": "stream",
     "text": [
      "WARNING:retry.api:The server is overloaded or not ready yet., retrying in 5 seconds...\n"
     ]
    },
    {
     "name": "stdout",
     "output_type": "stream",
     "text": [
      "response_19\n"
     ]
    },
    {
     "name": "stderr",
     "output_type": "stream",
     "text": [
      "WARNING:retry.api:The server is overloaded or not ready yet., retrying in 5 seconds...\n"
     ]
    },
    {
     "name": "stdout",
     "output_type": "stream",
     "text": [
      "response_20\n"
     ]
    },
    {
     "name": "stderr",
     "output_type": "stream",
     "text": [
      "WARNING:retry.api:The server is overloaded or not ready yet., retrying in 5 seconds...\n",
      "WARNING:retry.api:The server is overloaded or not ready yet., retrying in 5 seconds...\n"
     ]
    },
    {
     "name": "stdout",
     "output_type": "stream",
     "text": [
      "response_21\n"
     ]
    },
    {
     "name": "stderr",
     "output_type": "stream",
     "text": [
      "WARNING:retry.api:The server is overloaded or not ready yet., retrying in 5 seconds...\n",
      "WARNING:retry.api:The server is overloaded or not ready yet., retrying in 5 seconds...\n"
     ]
    },
    {
     "name": "stdout",
     "output_type": "stream",
     "text": [
      "response_22\n"
     ]
    },
    {
     "name": "stderr",
     "output_type": "stream",
     "text": [
      "WARNING:retry.api:The server is overloaded or not ready yet., retrying in 5 seconds...\n"
     ]
    },
    {
     "name": "stdout",
     "output_type": "stream",
     "text": [
      "response_23\n",
      "response_24\n"
     ]
    },
    {
     "name": "stderr",
     "output_type": "stream",
     "text": [
      "WARNING:retry.api:The server is overloaded or not ready yet., retrying in 5 seconds...\n"
     ]
    },
    {
     "name": "stdout",
     "output_type": "stream",
     "text": [
      "response_25\n",
      "response_26\n"
     ]
    },
    {
     "name": "stderr",
     "output_type": "stream",
     "text": [
      "WARNING:retry.api:The server is overloaded or not ready yet., retrying in 5 seconds...\n",
      "WARNING:retry.api:The server is overloaded or not ready yet., retrying in 5 seconds...\n",
      "WARNING:retry.api:The server is overloaded or not ready yet., retrying in 5 seconds...\n"
     ]
    },
    {
     "name": "stdout",
     "output_type": "stream",
     "text": [
      "response_27\n",
      "response_28\n",
      "response_29\n"
     ]
    },
    {
     "name": "stderr",
     "output_type": "stream",
     "text": [
      "WARNING:retry.api:The server is overloaded or not ready yet., retrying in 5 seconds...\n"
     ]
    },
    {
     "name": "stdout",
     "output_type": "stream",
     "text": [
      "response_30\n"
     ]
    },
    {
     "name": "stderr",
     "output_type": "stream",
     "text": [
      "WARNING:retry.api:The server is overloaded or not ready yet., retrying in 5 seconds...\n"
     ]
    },
    {
     "name": "stdout",
     "output_type": "stream",
     "text": [
      "response_31\n",
      "response_32\n",
      "response_33\n",
      "response_34\n",
      "response_35\n"
     ]
    },
    {
     "name": "stderr",
     "output_type": "stream",
     "text": [
      "WARNING:retry.api:The server is overloaded or not ready yet., retrying in 5 seconds...\n"
     ]
    },
    {
     "name": "stdout",
     "output_type": "stream",
     "text": [
      "response_36\n"
     ]
    },
    {
     "name": "stderr",
     "output_type": "stream",
     "text": [
      "WARNING:retry.api:The server is overloaded or not ready yet., retrying in 5 seconds...\n"
     ]
    },
    {
     "name": "stdout",
     "output_type": "stream",
     "text": [
      "response_37\n"
     ]
    },
    {
     "name": "stderr",
     "output_type": "stream",
     "text": [
      "WARNING:retry.api:The server is overloaded or not ready yet., retrying in 5 seconds...\n"
     ]
    },
    {
     "name": "stdout",
     "output_type": "stream",
     "text": [
      "response_38\n",
      "response_39\n"
     ]
    },
    {
     "name": "stderr",
     "output_type": "stream",
     "text": [
      "WARNING:retry.api:The server is overloaded or not ready yet., retrying in 5 seconds...\n"
     ]
    },
    {
     "name": "stdout",
     "output_type": "stream",
     "text": [
      "response_40\n"
     ]
    },
    {
     "name": "stderr",
     "output_type": "stream",
     "text": [
      "WARNING:retry.api:The server is overloaded or not ready yet., retrying in 5 seconds...\n"
     ]
    },
    {
     "name": "stdout",
     "output_type": "stream",
     "text": [
      "response_41\n"
     ]
    },
    {
     "name": "stderr",
     "output_type": "stream",
     "text": [
      "WARNING:retry.api:The server is overloaded or not ready yet., retrying in 5 seconds...\n"
     ]
    },
    {
     "name": "stdout",
     "output_type": "stream",
     "text": [
      "response_42\n"
     ]
    },
    {
     "name": "stderr",
     "output_type": "stream",
     "text": [
      "WARNING:retry.api:The server is overloaded or not ready yet., retrying in 5 seconds...\n",
      "WARNING:retry.api:The server is overloaded or not ready yet., retrying in 5 seconds...\n"
     ]
    },
    {
     "name": "stdout",
     "output_type": "stream",
     "text": [
      "response_43\n"
     ]
    },
    {
     "name": "stderr",
     "output_type": "stream",
     "text": [
      "WARNING:retry.api:The server is overloaded or not ready yet., retrying in 5 seconds...\n"
     ]
    },
    {
     "name": "stdout",
     "output_type": "stream",
     "text": [
      "response_44\n",
      "response_45\n",
      "response_46\n",
      "response_47\n"
     ]
    },
    {
     "name": "stderr",
     "output_type": "stream",
     "text": [
      "WARNING:retry.api:The server is overloaded or not ready yet., retrying in 5 seconds...\n"
     ]
    },
    {
     "name": "stdout",
     "output_type": "stream",
     "text": [
      "response_48\n"
     ]
    },
    {
     "name": "stderr",
     "output_type": "stream",
     "text": [
      "WARNING:retry.api:The server is overloaded or not ready yet., retrying in 5 seconds...\n"
     ]
    },
    {
     "name": "stdout",
     "output_type": "stream",
     "text": [
      "response_49\n",
      "response_50\n",
      "response_51\n"
     ]
    },
    {
     "name": "stderr",
     "output_type": "stream",
     "text": [
      "WARNING:retry.api:The server is overloaded or not ready yet., retrying in 5 seconds...\n",
      "WARNING:retry.api:Error communicating with OpenAI: ('Connection aborted.', ConnectionResetError(10054, 'An existing connection was forcibly closed by the remote host', None, 10054, None)), retrying in 5 seconds...\n",
      "WARNING:urllib3.connectionpool:Retrying (Retry(total=1, connect=None, read=None, redirect=None, status=None)) after connection broken by 'NewConnectionError('<urllib3.connection.HTTPSConnection object at 0x000002125C101E20>: Failed to establish a new connection: [Errno 11001] getaddrinfo failed')': /v1/chat/completions\n",
      "WARNING:urllib3.connectionpool:Retrying (Retry(total=0, connect=None, read=None, redirect=None, status=None)) after connection broken by 'NewConnectionError('<urllib3.connection.HTTPSConnection object at 0x000002125C101640>: Failed to establish a new connection: [Errno 11001] getaddrinfo failed')': /v1/chat/completions\n",
      "WARNING:retry.api:Error communicating with OpenAI: HTTPSConnectionPool(host='api.openai.com', port=443): Max retries exceeded with url: /v1/chat/completions (Caused by NewConnectionError('<urllib3.connection.HTTPSConnection object at 0x000002125C101BE0>: Failed to establish a new connection: [Errno 11001] getaddrinfo failed')), retrying in 5 seconds...\n"
     ]
    },
    {
     "name": "stdout",
     "output_type": "stream",
     "text": [
      "response_52\n"
     ]
    },
    {
     "name": "stderr",
     "output_type": "stream",
     "text": [
      "WARNING:retry.api:The server is overloaded or not ready yet., retrying in 5 seconds...\n",
      "WARNING:retry.api:The server is overloaded or not ready yet., retrying in 5 seconds...\n"
     ]
    },
    {
     "name": "stdout",
     "output_type": "stream",
     "text": [
      "response_53\n"
     ]
    },
    {
     "name": "stderr",
     "output_type": "stream",
     "text": [
      "WARNING:retry.api:The server is overloaded or not ready yet., retrying in 5 seconds...\n"
     ]
    },
    {
     "name": "stdout",
     "output_type": "stream",
     "text": [
      "response_54\n"
     ]
    },
    {
     "name": "stderr",
     "output_type": "stream",
     "text": [
      "WARNING:retry.api:The server is overloaded or not ready yet., retrying in 5 seconds...\n"
     ]
    },
    {
     "name": "stdout",
     "output_type": "stream",
     "text": [
      "response_55\n",
      "response_56\n",
      "response_57\n"
     ]
    },
    {
     "name": "stderr",
     "output_type": "stream",
     "text": [
      "WARNING:retry.api:The server is overloaded or not ready yet., retrying in 5 seconds...\n"
     ]
    },
    {
     "name": "stdout",
     "output_type": "stream",
     "text": [
      "response_58\n"
     ]
    },
    {
     "name": "stderr",
     "output_type": "stream",
     "text": [
      "WARNING:retry.api:The server is overloaded or not ready yet., retrying in 5 seconds...\n"
     ]
    },
    {
     "name": "stdout",
     "output_type": "stream",
     "text": [
      "response_59\n"
     ]
    },
    {
     "name": "stderr",
     "output_type": "stream",
     "text": [
      "WARNING:retry.api:The server is overloaded or not ready yet., retrying in 5 seconds...\n"
     ]
    },
    {
     "name": "stdout",
     "output_type": "stream",
     "text": [
      "response_60\n"
     ]
    },
    {
     "name": "stderr",
     "output_type": "stream",
     "text": [
      "WARNING:retry.api:The server is overloaded or not ready yet., retrying in 5 seconds...\n",
      "WARNING:retry.api:The server is overloaded or not ready yet., retrying in 5 seconds...\n"
     ]
    },
    {
     "name": "stdout",
     "output_type": "stream",
     "text": [
      "response_61\n",
      "response_62\n"
     ]
    },
    {
     "name": "stderr",
     "output_type": "stream",
     "text": [
      "WARNING:retry.api:The server is overloaded or not ready yet., retrying in 5 seconds...\n"
     ]
    },
    {
     "name": "stdout",
     "output_type": "stream",
     "text": [
      "response_63\n"
     ]
    },
    {
     "name": "stderr",
     "output_type": "stream",
     "text": [
      "WARNING:retry.api:The server is overloaded or not ready yet., retrying in 5 seconds...\n"
     ]
    },
    {
     "name": "stdout",
     "output_type": "stream",
     "text": [
      "response_64\n"
     ]
    },
    {
     "name": "stderr",
     "output_type": "stream",
     "text": [
      "WARNING:retry.api:The server is overloaded or not ready yet., retrying in 5 seconds...\n"
     ]
    },
    {
     "name": "stdout",
     "output_type": "stream",
     "text": [
      "response_65\n"
     ]
    },
    {
     "name": "stderr",
     "output_type": "stream",
     "text": [
      "WARNING:retry.api:The server is overloaded or not ready yet., retrying in 5 seconds...\n"
     ]
    },
    {
     "name": "stdout",
     "output_type": "stream",
     "text": [
      "response_66\n",
      "response_67\n"
     ]
    },
    {
     "name": "stderr",
     "output_type": "stream",
     "text": [
      "WARNING:retry.api:The server is overloaded or not ready yet., retrying in 5 seconds...\n"
     ]
    },
    {
     "name": "stdout",
     "output_type": "stream",
     "text": [
      "response_68\n"
     ]
    },
    {
     "name": "stderr",
     "output_type": "stream",
     "text": [
      "WARNING:retry.api:The server is overloaded or not ready yet., retrying in 5 seconds...\n",
      "WARNING:retry.api:The server is overloaded or not ready yet., retrying in 5 seconds...\n"
     ]
    },
    {
     "name": "stdout",
     "output_type": "stream",
     "text": [
      "response_69\n",
      "response_70\n",
      "response_71\n"
     ]
    },
    {
     "name": "stderr",
     "output_type": "stream",
     "text": [
      "WARNING:retry.api:The server is overloaded or not ready yet., retrying in 5 seconds...\n",
      "WARNING:retry.api:The server is overloaded or not ready yet., retrying in 5 seconds...\n",
      "WARNING:retry.api:The server is overloaded or not ready yet., retrying in 5 seconds...\n"
     ]
    },
    {
     "name": "stdout",
     "output_type": "stream",
     "text": [
      "response_72\n"
     ]
    },
    {
     "name": "stderr",
     "output_type": "stream",
     "text": [
      "WARNING:retry.api:The server is overloaded or not ready yet., retrying in 5 seconds...\n"
     ]
    },
    {
     "name": "stdout",
     "output_type": "stream",
     "text": [
      "response_73\n",
      "response_74\n"
     ]
    },
    {
     "name": "stderr",
     "output_type": "stream",
     "text": [
      "WARNING:retry.api:The server is overloaded or not ready yet., retrying in 5 seconds...\n"
     ]
    },
    {
     "name": "stdout",
     "output_type": "stream",
     "text": [
      "response_75\n",
      "response_76\n",
      "response_77\n"
     ]
    },
    {
     "name": "stderr",
     "output_type": "stream",
     "text": [
      "WARNING:retry.api:The server is overloaded or not ready yet., retrying in 5 seconds...\n",
      "WARNING:retry.api:The server is overloaded or not ready yet., retrying in 5 seconds...\n"
     ]
    },
    {
     "name": "stdout",
     "output_type": "stream",
     "text": [
      "response_78\n"
     ]
    },
    {
     "name": "stderr",
     "output_type": "stream",
     "text": [
      "WARNING:retry.api:The server is overloaded or not ready yet., retrying in 5 seconds...\n"
     ]
    },
    {
     "name": "stdout",
     "output_type": "stream",
     "text": [
      "response_79\n"
     ]
    },
    {
     "name": "stderr",
     "output_type": "stream",
     "text": [
      "WARNING:retry.api:The server is overloaded or not ready yet., retrying in 5 seconds...\n"
     ]
    },
    {
     "name": "stdout",
     "output_type": "stream",
     "text": [
      "response_80\n",
      "response_81\n",
      "response_82\n"
     ]
    },
    {
     "name": "stderr",
     "output_type": "stream",
     "text": [
      "WARNING:retry.api:The server is overloaded or not ready yet., retrying in 5 seconds...\n"
     ]
    },
    {
     "name": "stdout",
     "output_type": "stream",
     "text": [
      "response_83\n",
      "response_84\n",
      "response_85\n"
     ]
    },
    {
     "name": "stderr",
     "output_type": "stream",
     "text": [
      "WARNING:retry.api:The server is overloaded or not ready yet., retrying in 5 seconds...\n"
     ]
    },
    {
     "name": "stdout",
     "output_type": "stream",
     "text": [
      "response_86\n"
     ]
    },
    {
     "name": "stderr",
     "output_type": "stream",
     "text": [
      "WARNING:retry.api:The server is overloaded or not ready yet., retrying in 5 seconds...\n"
     ]
    },
    {
     "name": "stdout",
     "output_type": "stream",
     "text": [
      "response_87\n"
     ]
    },
    {
     "name": "stderr",
     "output_type": "stream",
     "text": [
      "WARNING:retry.api:The server is overloaded or not ready yet., retrying in 5 seconds...\n"
     ]
    },
    {
     "name": "stdout",
     "output_type": "stream",
     "text": [
      "response_88\n"
     ]
    },
    {
     "name": "stderr",
     "output_type": "stream",
     "text": [
      "WARNING:retry.api:The server is overloaded or not ready yet., retrying in 5 seconds...\n"
     ]
    },
    {
     "name": "stdout",
     "output_type": "stream",
     "text": [
      "response_89\n",
      "response_90\n"
     ]
    },
    {
     "name": "stderr",
     "output_type": "stream",
     "text": [
      "WARNING:retry.api:The server is overloaded or not ready yet., retrying in 5 seconds...\n"
     ]
    },
    {
     "name": "stdout",
     "output_type": "stream",
     "text": [
      "response_91\n"
     ]
    },
    {
     "name": "stderr",
     "output_type": "stream",
     "text": [
      "WARNING:retry.api:The server is overloaded or not ready yet., retrying in 5 seconds...\n"
     ]
    },
    {
     "name": "stdout",
     "output_type": "stream",
     "text": [
      "response_92\n",
      "response_93\n",
      "response_94\n"
     ]
    },
    {
     "name": "stderr",
     "output_type": "stream",
     "text": [
      "WARNING:retry.api:The server is overloaded or not ready yet., retrying in 5 seconds...\n"
     ]
    },
    {
     "name": "stdout",
     "output_type": "stream",
     "text": [
      "response_95\n"
     ]
    },
    {
     "name": "stderr",
     "output_type": "stream",
     "text": [
      "WARNING:retry.api:The server is overloaded or not ready yet., retrying in 5 seconds...\n",
      "WARNING:retry.api:The server is overloaded or not ready yet., retrying in 5 seconds...\n",
      "WARNING:retry.api:The server is overloaded or not ready yet., retrying in 5 seconds...\n"
     ]
    },
    {
     "name": "stdout",
     "output_type": "stream",
     "text": [
      "response_96\n"
     ]
    },
    {
     "name": "stderr",
     "output_type": "stream",
     "text": [
      "WARNING:retry.api:The server is overloaded or not ready yet., retrying in 5 seconds...\n"
     ]
    },
    {
     "name": "stdout",
     "output_type": "stream",
     "text": [
      "response_97\n",
      "response_98\n"
     ]
    },
    {
     "name": "stderr",
     "output_type": "stream",
     "text": [
      "WARNING:retry.api:The server is overloaded or not ready yet., retrying in 5 seconds...\n",
      "WARNING:retry.api:The server is overloaded or not ready yet., retrying in 5 seconds...\n",
      "WARNING:retry.api:The server is overloaded or not ready yet., retrying in 5 seconds...\n"
     ]
    },
    {
     "name": "stdout",
     "output_type": "stream",
     "text": [
      "response_99\n"
     ]
    },
    {
     "name": "stderr",
     "output_type": "stream",
     "text": [
      "WARNING:retry.api:The server is overloaded or not ready yet., retrying in 5 seconds...\n"
     ]
    },
    {
     "name": "stdout",
     "output_type": "stream",
     "text": [
      "response_100\n"
     ]
    }
   ],
   "source": [
    "for alt in alts: #iterate over prompt alternatives\n",
    "    \n",
    "    # load prompts and create inputs for API call\n",
    "    with open ('../data/prompts/ALT' + str(alt) + \"_\" + d + \".pkl\", 'rb') as fp:\n",
    "        prompts = pickle.load(fp)\n",
    "    items = pd.read_csv(path_items, sep=\";\")\n",
    "    messages = [{\"role\": \"user\", \"content\": x} for x in prompts]\n",
    "    \n",
    "    repeats = 100\n",
    "    total_responses = []\n",
    "    for i in range(repeats):\n",
    "        col_name = \"response_\" + str(i+1)\n",
    "        print(col_name)\n",
    "        responses = []\n",
    "        for i, message in enumerate(messages):\n",
    "            APIresponse = delayed_completion(\n",
    "                delay_in_seconds=delay,\n",
    "                model=model_engine,\n",
    "                messages=[message],\n",
    "                temperature=1,\n",
    "                )\n",
    "            response = APIresponse.choices[0].message[\"content\"]\n",
    "            responses.append(response)\n",
    "        total_responses.append(responses)\n",
    "        # items[col_name] = responses\n",
    "            # break\n",
    "\n",
    "    # save as dataframe\n",
    "    new_dic = {}\n",
    "    new_dic[\"id\"] = items.id.tolist()\n",
    "    new_dic[\"item_text\"] = items.item_text.tolist()\n",
    "    for i, values in enumerate(total_responses):\n",
    "        new_dic[f'response_{i+1}'] = values\n",
    "    df_responses = pd.DataFrame(new_dic)\n",
    "    df_responses.to_csv(\"../results/\" + d + \"_ALT\" + str(alt) + \".csv\", index=False)"
   ]
  }
 ],
 "metadata": {
  "kernelspec": {
   "display_name": "Python 3 (ipykernel)",
   "language": "python",
   "name": "python3"
  },
  "language_info": {
   "codemirror_mode": {
    "name": "ipython",
    "version": 3
   },
   "file_extension": ".py",
   "mimetype": "text/x-python",
   "name": "python",
   "nbconvert_exporter": "python",
   "pygments_lexer": "ipython3",
   "version": "3.10.9"
  }
 },
 "nbformat": 4,
 "nbformat_minor": 5
}
