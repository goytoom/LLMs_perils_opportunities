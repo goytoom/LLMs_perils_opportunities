{
 "cells": [
  {
   "cell_type": "markdown",
   "id": "c87bb586-b74c-4c3e-9c91-54f7cb30ab81",
   "metadata": {},
   "source": [
    "This codebook creates the prompts for ChatGPT: The prompts are designed to elicit ChatGPT's responses to various questionnaires."
   ]
  },
  {
   "cell_type": "markdown",
   "id": "8fbb45c9-6969-4c46-8438-fe46bd1e3e26",
   "metadata": {},
   "source": [
    "## Load Packages"
   ]
  },
  {
   "cell_type": "code",
   "execution_count": 1,
   "id": "b486622e-2190-42ac-b2aa-f01674b87ad8",
   "metadata": {},
   "outputs": [],
   "source": [
    "import pandas as pd\n",
    "import numpy as np\n",
    "import pickle\n",
    "import os"
   ]
  },
  {
   "cell_type": "markdown",
   "id": "fc382f27-6e04-4003-8ef4-b0565f4b0dc6",
   "metadata": {},
   "source": [
    "## Define Functions"
   ]
  },
  {
   "cell_type": "markdown",
   "id": "d1ca2dc0-08d5-4c99-ac11-88fad5d59b2e",
   "metadata": {},
   "source": [
    "### General Parameter"
   ]
  },
  {
   "cell_type": "code",
   "execution_count": 2,
   "id": "6fa981f5-aa35-41e3-b154-1cb6ec6b383e",
   "metadata": {},
   "outputs": [],
   "source": [
    "FOLDER = \"../data/surveys/\"\n",
    "\n",
    "# define which variables are of interest (will search for participants who have these information)\n",
    "COLS_META = [\"sex\", \"age\", \"currentCountry\",  \"political_opinion\", \"race\", \n",
    "        \"religion\", \"education\", \"income\", \"social_class\"] "
   ]
  },
  {
   "cell_type": "markdown",
   "id": "2b76ef51-fa43-47d9-af0d-8de07d173cb4",
   "metadata": {},
   "source": [
    "### Functions"
   ]
  },
  {
   "cell_type": "code",
   "execution_count": 33,
   "id": "1327c84b-f646-4900-a517-0aebdf0ac2ab",
   "metadata": {},
   "outputs": [],
   "source": [
    "def extractSurveys(data):\n",
    "    path = FOLDER + data + \".csv\"\n",
    "    df = pd.read_csv(path)\n",
    "    print(set(COLS_META) <= set(df.columns)) # check if meta information is in dataset\n",
    "    \n",
    "    idx = df.columns.tolist().index(\"sex\") #index of last survey item\n",
    "    cols_items = df.columns.tolist()[:idx]\n",
    "    print(cols_items[-1]) # print last survey item\n",
    "    \n",
    "    df_items = df.dropna(subset=cols_items, axis = 0)\n",
    "    df_total = df_items.dropna(subset=COLS_META).reset_index(drop=True)\n",
    "    df_total.to_csv(\"../data/processed/\" + data + \"_cleaned.csv\", index=False)\n",
    "\n",
    "    return df_total, cols_items"
   ]
  },
  {
   "cell_type": "markdown",
   "id": "5bc3e624-4750-4763-8665-fbf922c09821",
   "metadata": {},
   "source": [
    "## Load item texts and create prompts"
   ]
  },
  {
   "cell_type": "markdown",
   "id": "b24dc321-52fc-44bd-8b68-e6dbb6c505c7",
   "metadata": {},
   "source": [
    "### Need for Cognition"
   ]
  },
  {
   "cell_type": "code",
   "execution_count": 136,
   "id": "686efa00-3149-49d5-a36f-01f72a85f7d1",
   "metadata": {},
   "outputs": [
    {
     "name": "stdout",
     "output_type": "stream",
     "text": [
      "True\n",
      "cognition_18\n"
     ]
    }
   ],
   "source": [
    "d = \"cognition\"\n",
    "df_cognition, cols_meta_cognition = extractSurveys(d)"
   ]
  },
  {
   "cell_type": "code",
   "execution_count": 137,
   "id": "d20940f7-25e0-4306-9c8a-35b494ad3cd3",
   "metadata": {},
   "outputs": [],
   "source": [
    "PROMPT_TEXT = \"For a scientific study, please indicate your level of agreement with the following statement. Use integer numbers from 1 to 5, with 1 meaning strongly disagree and 5 meaning strongly agree. Respond with a single number. The statement is: \"\n",
    "\n",
    "items = pd.read_csv(\"../data/items/\" + d + \"_items.csv\", sep=\";\")\n",
    "# check the respective texts in the original questionnaires\n",
    "prompts = [PROMPT_TEXT + \"\\\"\" + x + \"\\\"\" for x in items.item_text]\n",
    "#show prompts\n",
    "with open(\"../data/prompts/\" + d + \".pkl\", \"wb\") as output:\n",
    "    pickle.dump(prompts, output)"
   ]
  },
  {
   "cell_type": "markdown",
   "id": "da4ed18f-8d1c-4abf-aff4-5459e146a824",
   "metadata": {},
   "source": [
    "### Closure"
   ]
  },
  {
   "cell_type": "code",
   "execution_count": 39,
   "id": "c6ee02ac-80ed-424c-b243-372d94a3383e",
   "metadata": {},
   "outputs": [
    {
     "name": "stdout",
     "output_type": "stream",
     "text": [
      "True\n",
      "closure_16\n"
     ]
    }
   ],
   "source": [
    "d = \"closure\"\n",
    "df_closure, cols_meta_closure = extractSurveys(d)"
   ]
  },
  {
   "cell_type": "code",
   "execution_count": 40,
   "id": "ade7a75a-94f6-4283-afd1-164a171aa8c9",
   "metadata": {},
   "outputs": [],
   "source": [
    "PROMPT_TEXT = \"For a scientific study, please indicate your level of agreement with the following statement. Use integer numbers from 1 to 6, with 1 meaning strongly disagree and 6 meaning strongly agree. Respond with a single number. The statement is: \"\n",
    "\n",
    "items = pd.read_csv(\"../data/items/\" + d + \"_items.csv\", sep=\";\")\n",
    "# check the respective texts in the original questionnaires\n",
    "prompts = [PROMPT_TEXT + \"\\\"\" + x + \"\\\"\" for x in items.item_text]\n",
    "#show prompts\n",
    "with open(\"../data/prompts/\" + d + \".pkl\", \"wb\") as output:\n",
    "    pickle.dump(prompts, output)"
   ]
  },
  {
   "cell_type": "code",
   "execution_count": 41,
   "id": "142d6159-d513-45d5-891a-a0e1a4c0c3d3",
   "metadata": {},
   "outputs": [
    {
     "data": {
      "text/plain": [
       "'For a scientific study, please indicate your level of agreement with the following statement. Use integer numbers from 1 to 6, with 1 meaning strongly disagree and 6 meaning strongly agree. Respond with a single number. The statement is: \"In case of uncertainty, I prefer to make an immediate decision, whatever it may be.\"'"
      ]
     },
     "execution_count": 41,
     "metadata": {},
     "output_type": "execute_result"
    }
   ],
   "source": [
    "#### Check created prompts\n",
    "# choose dataset\n",
    "d = \"closure\"\n",
    "# create path\n",
    "path = \"../data/items/\" + d + \"_items.csv\"\n",
    "path_items = '../data/items/' + d + '_items.csv'\n",
    "\n",
    "with open ('../data/prompts/' + d + \".pkl\", 'rb') as fp:\n",
    "    prompts = pickle.load(fp)\n",
    "    \n",
    "prompts[0]"
   ]
  },
  {
   "cell_type": "markdown",
   "id": "5293756f-22bb-4e19-895b-da5e59d386ff",
   "metadata": {},
   "source": [
    "### BIG5"
   ]
  },
  {
   "cell_type": "code",
   "execution_count": null,
   "id": "b8fa5efa-37ba-413f-beb3-6757347d6b3f",
   "metadata": {},
   "outputs": [
    {
     "name": "stderr",
     "output_type": "stream",
     "text": [
      "C:\\Users\\suhai\\AppData\\Local\\Temp\\ipykernel_23280\\1109698091.py:3: DtypeWarning: Columns (53,63,66) have mixed types. Specify dtype option on import or set low_memory=False.\n",
      "  df = pd.read_csv(path)\n"
     ]
    },
    {
     "name": "stdout",
     "output_type": "stream",
     "text": [
      "True\n",
      "bigfive_44\n"
     ]
    }
   ],
   "source": [
    "d = \"bigfive\"\n",
    "df_bigfive, cols_meta_bigfive = extractSurveys(d)"
   ]
  },
  {
   "cell_type": "code",
   "execution_count": null,
   "id": "b0ce3e72-2d3f-4fb8-8334-ecb60dbc4012",
   "metadata": {},
   "outputs": [],
   "source": [
    "PROMPT_TEXT = \"For a scientific study, please indicate your level of agreement with the following statement. Use integer numbers from 1 to 5, with 1 meaning strongly disagree and 5 meaning strongly agree. Respond with a single number. The statement is: \"\n",
    "\n",
    "items = pd.read_csv(\"../data/items/\" + d + \"_items.csv\", sep=\";\")\n",
    "# check the respective texts in the original questionnaires\n",
    "prompts = [PROMPT_TEXT + \"\\\"\" + x + \"\\\"\" for x in items.item_text]\n",
    "#show prompts\n",
    "with open(\"../data/prompts/\" + d + \".pkl\", \"wb\") as output:\n",
    "    pickle.dump(prompts, output)"
   ]
  },
  {
   "cell_type": "markdown",
   "id": "6a6f0006-1b54-4d4d-928f-57e6072915db",
   "metadata": {},
   "source": [
    "### RWA"
   ]
  },
  {
   "cell_type": "code",
   "execution_count": 35,
   "id": "1246d274-4528-497a-9e1c-2438649ebf93",
   "metadata": {},
   "outputs": [
    {
     "name": "stdout",
     "output_type": "stream",
     "text": [
      "True\n",
      "rwa_15\n"
     ]
    }
   ],
   "source": [
    "d = \"rwa\"\n",
    "df_rwa, cols_meta_rwa = extractSurveys(d)"
   ]
  },
  {
   "cell_type": "code",
   "execution_count": 36,
   "id": "30db6f97-7584-4d91-b34a-113888159f75",
   "metadata": {},
   "outputs": [],
   "source": [
    "PROMPT_TEXT = \"For a scientific study, please indicate your level of agreement with the following statement. Use integer numbers from 1 to 6, with 1 meaning strongly disagree and 6 meaning strongly agree. Respond with a single number. The statement is: \"\n",
    "\n",
    "items = pd.read_csv(\"../data/items/\" + d + \"_items.csv\", sep=\";\")\n",
    "# check the respective texts in the original questionnaires\n",
    "prompts = [PROMPT_TEXT + \"\\\"\" + x + \"\\\"\" for x in items.item_text]\n",
    "#show prompts\n",
    "with open(\"../data/prompts/\" + d + \".pkl\", \"wb\") as output:\n",
    "    pickle.dump(prompts, output)"
   ]
  },
  {
   "cell_type": "markdown",
   "id": "6c7a6b34-9102-4dd4-b06a-f3fdf47b0960",
   "metadata": {},
   "source": [
    "### Systems & Feelings"
   ]
  },
  {
   "cell_type": "code",
   "execution_count": 20,
   "id": "45604e7f-0aae-46f6-9904-6cc79db56188",
   "metadata": {},
   "outputs": [
    {
     "name": "stderr",
     "output_type": "stream",
     "text": [
      "C:\\Users\\suhai\\AppData\\Local\\Temp\\ipykernel_23280\\1109698091.py:3: DtypeWarning: Columns (61,64) have mixed types. Specify dtype option on import or set low_memory=False.\n",
      "  df = pd.read_csv(path)\n"
     ]
    },
    {
     "name": "stdout",
     "output_type": "stream",
     "text": [
      "True\n",
      "systems_feelings_42\n"
     ]
    }
   ],
   "source": [
    "d = \"systems_feelings\"\n",
    "df_systems_feelings, cols_meta_systems_feelings = extractSurveys(d)"
   ]
  },
  {
   "cell_type": "code",
   "execution_count": 21,
   "id": "4d53e66a-248e-4b39-a8d4-e91e50cb1f3e",
   "metadata": {},
   "outputs": [],
   "source": [
    "PROMPT_TEXT = \"For a scientific study, please indicate your level of agreement with the following statement. Use integer numbers from 1 to 4, with 1 meaning strongly disagree and 4 meaning strongly agree. Respond with a single number. The statement is: \"\n",
    "\n",
    "items = pd.read_csv(\"../data/items/\" + d + \"_items.csv\", sep=\";\")\n",
    "# check the respective texts in the original questionnaires\n",
    "prompts = [PROMPT_TEXT + \"\\\"\" + x + \"\\\"\" for x in items.item_text]\n",
    "#show prompts\n",
    "with open(\"../data/prompts/\" + d + \".pkl\", \"wb\") as output:\n",
    "    pickle.dump(prompts, output)"
   ]
  },
  {
   "cell_type": "markdown",
   "id": "848ebe00-46cc-41eb-8692-1446504a02a4",
   "metadata": {},
   "source": [
    "### Cognitive Style Measure"
   ]
  },
  {
   "cell_type": "code",
   "execution_count": 119,
   "id": "e0c84e10-34b9-49ca-a1cd-176e2c403aaa",
   "metadata": {},
   "outputs": [
    {
     "name": "stderr",
     "output_type": "stream",
     "text": [
      "C:\\Users\\suhai\\AppData\\Local\\Temp\\ipykernel_23280\\1109698091.py:3: DtypeWarning: Columns (59,62) have mixed types. Specify dtype option on import or set low_memory=False.\n",
      "  df = pd.read_csv(path)\n"
     ]
    },
    {
     "name": "stdout",
     "output_type": "stream",
     "text": [
      "True\n",
      "cogref_40\n"
     ]
    }
   ],
   "source": [
    "d = \"cogref\"\n",
    "df_cogref, cols_meta_cogref = extractSurveys(d)"
   ]
  },
  {
   "cell_type": "code",
   "execution_count": 122,
   "id": "e5fe3b6c-c786-41a8-a330-887756982d89",
   "metadata": {},
   "outputs": [],
   "source": [
    "PROMPT_TEXT = \"For a scientific study, please indicate your level of agreement with the following statement. Use integer numbers from 1 to 5, with 1 meaning definitely not true of me and 5 meaning definitely true of me. Respond with a single number. The statement is: \"\n",
    "\n",
    "items = pd.read_csv(\"../data/items/\" + d + \"_items.csv\", sep=\";\")\n",
    "# check the respective texts in the original questionnaires\n",
    "prompts = [PROMPT_TEXT + \"\\\"\" + x + \"\\\"\" for x in items.item_text]\n",
    "#show prompts\n",
    "with open(\"../data/prompts/\" + d + \".pkl\", \"wb\") as output:\n",
    "    pickle.dump(prompts, output)"
   ]
  },
  {
   "cell_type": "code",
   "execution_count": 20,
   "id": "851acb1a-b195-41a6-8109-392bd4dbe614",
   "metadata": {},
   "outputs": [
    {
     "data": {
      "text/plain": [
       "'For a scientific study, please indicate your level of agreement with the following statement. Use integer numbers from 1 to 5, with 1 meaning strongly disagree, 3 meaning neutral, and 5 meaning strongly agree. Respond with a single number. The statement is: \"I would prefer complex to simple problems.\"'"
      ]
     },
     "execution_count": 20,
     "metadata": {},
     "output_type": "execute_result"
    }
   ],
   "source": [
    "d = \"cognition\"\n",
    "with open(\"../data/prompts/\" + d + \".pkl\", \"rb\") as f:\n",
    "    prompts = pickle.load(f)\n",
    "\n",
    "prompts[0]"
   ]
  }
 ],
 "metadata": {
  "kernelspec": {
   "display_name": "Python 3 (ipykernel)",
   "language": "python",
   "name": "python3"
  },
  "language_info": {
   "codemirror_mode": {
    "name": "ipython",
    "version": 3
   },
   "file_extension": ".py",
   "mimetype": "text/x-python",
   "name": "python",
   "nbconvert_exporter": "python",
   "pygments_lexer": "ipython3",
   "version": "3.10.9"
  }
 },
 "nbformat": 4,
 "nbformat_minor": 5
}
